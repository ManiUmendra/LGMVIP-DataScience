{
 "cells": [
  {
   "cell_type": "code",
   "execution_count": null,
   "metadata": {},
   "outputs": [],
   "source": [
    "#Importing Libraries\n",
    "import cv2\n",
    "import random\n",
    "import numpy as np\n",
    "import pandas as pd\n",
    "from deepface import DeepFace #Lirary for analysing emotion"
   ]
  },
  {
   "cell_type": "code",
   "execution_count": 14,
   "metadata": {},
   "outputs": [
    {
     "data": {
      "text/html": [
       "<div>\n",
       "<style scoped>\n",
       "    .dataframe tbody tr th:only-of-type {\n",
       "        vertical-align: middle;\n",
       "    }\n",
       "\n",
       "    .dataframe tbody tr th {\n",
       "        vertical-align: top;\n",
       "    }\n",
       "\n",
       "    .dataframe thead th {\n",
       "        text-align: right;\n",
       "    }\n",
       "</style>\n",
       "<table border=\"1\" class=\"dataframe\">\n",
       "  <thead>\n",
       "    <tr style=\"text-align: right;\">\n",
       "      <th></th>\n",
       "      <th>acousticness</th>\n",
       "      <th>valence</th>\n",
       "      <th>song_name</th>\n",
       "    </tr>\n",
       "  </thead>\n",
       "  <tbody>\n",
       "    <tr>\n",
       "      <th>0</th>\n",
       "      <td>0.0598</td>\n",
       "      <td>0.3890</td>\n",
       "      <td>Mercury: Retrograde</td>\n",
       "    </tr>\n",
       "    <tr>\n",
       "      <th>1</th>\n",
       "      <td>0.4010</td>\n",
       "      <td>0.1240</td>\n",
       "      <td>Pathology</td>\n",
       "    </tr>\n",
       "    <tr>\n",
       "      <th>2</th>\n",
       "      <td>0.0138</td>\n",
       "      <td>0.0391</td>\n",
       "      <td>Symbiote</td>\n",
       "    </tr>\n",
       "    <tr>\n",
       "      <th>3</th>\n",
       "      <td>0.0237</td>\n",
       "      <td>0.1750</td>\n",
       "      <td>ProductOfDrugs (Prod. The Virus and Antidote)</td>\n",
       "    </tr>\n",
       "    <tr>\n",
       "      <th>4</th>\n",
       "      <td>0.2170</td>\n",
       "      <td>0.5910</td>\n",
       "      <td>Venom</td>\n",
       "    </tr>\n",
       "  </tbody>\n",
       "</table>\n",
       "</div>"
      ],
      "text/plain": [
       "   acousticness  valence                                      song_name\n",
       "0        0.0598   0.3890                            Mercury: Retrograde\n",
       "1        0.4010   0.1240                                      Pathology\n",
       "2        0.0138   0.0391                                       Symbiote\n",
       "3        0.0237   0.1750  ProductOfDrugs (Prod. The Virus and Antidote)\n",
       "4        0.2170   0.5910                                          Venom"
      ]
     },
     "execution_count": 14,
     "metadata": {},
     "output_type": "execute_result"
    }
   ],
   "source": [
    "#Loading Music Dataset From Folder\n",
    "data = pd.read_csv('C:/Users/umendra/OneDrive/Documents/DataSet/genres_v2.csv')\n",
    "data = data.dropna()\n",
    "data = data.loc[:,[\"acousticness\",\"valence\",\"song_name\"]]\n",
    "data.head()"
   ]
  },
  {
   "cell_type": "code",
   "execution_count": 3,
   "metadata": {},
   "outputs": [
    {
     "name": "stdout",
     "output_type": "stream",
     "text": [
      "0.16728227078442431 0.41738458571494885\n"
     ]
    }
   ],
   "source": [
    "#Computation over music datset\n",
    "mean_ac = np.mean(data.loc[:,\"acousticness\"])\n",
    "mean_va = np.mean(data.loc[:,\"valence\"])\n",
    "print(mean_ac,mean_va)"
   ]
  },
  {
   "cell_type": "code",
   "execution_count": 7,
   "metadata": {},
   "outputs": [
    {
     "name": "stdout",
     "output_type": "stream",
     "text": [
      "Your dominant emotion is: neutral\n",
      "Enter the number of songs you want:\n",
      "10\n",
      "Your songs are as follows:\n",
      "\n",
      "['Come Up', 'Pumpkins Scream In the Dead of Night (feat. shinigami)', 'Rider Pt. 2', 'No Sleep', \"Runnin'\", 'Ricky Bobby Six Speed', 'Got My Mind Made Up', 'Music Is My Wife', 'Angelic Hoodrat']\n"
     ]
    }
   ],
   "source": [
    "#Performing music recommendation over any given image\n",
    "im = cv2.imread('./faceEmoji/face0.jpg') #Loading Image\n",
    "pre = DeepFace.analyze(im,actions=['emotion']) #Analysing Emotions\n",
    "print(\"Your dominant emotion is:\",pre['dominant_emotion'])\n",
    "predict_music(pre)"
   ]
  },
  {
   "cell_type": "code",
   "execution_count": 6,
   "metadata": {},
   "outputs": [],
   "source": [
    "#Function for music recommendation\n",
    "\n",
    "def predict_music(pre):\n",
    "    em = {'angry':pre['emotion']['angry'],'happy':pre['emotion']['happy'],'sad':pre['emotion']['sad'],'neutral':pre['emotion']['neutral']}\n",
    "    em = dict(sorted(em.items(),key=lambda x:x[1],reverse=True))\n",
    "    l_keys = list(em.keys())\n",
    "    if(l_keys[0]==\"anger\"):\n",
    "        aux_dta = data[(data['acousticness']>mean_ac) & (data['valence']<mean_va)]\n",
    "        aux_dta = aux_dta.sort_values(by='valence')\n",
    "    elif(l_keys[0]==\"happy\"):\n",
    "        aux_dta = data[(data['acousticness']>mean_ac) & (data['valence']>mean_va)]\n",
    "        aux_dta = aux_dta.sort_values(by='acousticness',ascending=False)\n",
    "    elif(l_keys[0]==\"sad\"):\n",
    "        aux_dta = data[(data['acousticness']<mean_ac) & (data['valence']<mean_va)]\n",
    "        aux_dta = aux_dta.sort_values(by='acousticness')\n",
    "    else:    \n",
    "        aux_dta = data[(data['acousticness']<mean_ac) & (data['valence']>mean_va)]\n",
    "    \n",
    "    print(\"Enter the number of songs you want:\")\n",
    "    count = int(input())\n",
    "    l = []\n",
    "    for i in range(1,count):\n",
    "        l.append(random.randint(1,len(aux_dta.index)))   \n",
    "    pc=pd.DataFrame(aux_dta.iloc[l])\n",
    "    p = list(pc['song_name'])\n",
    "    print(\"Your songs are as follows:\\n\")\n",
    "    print(p)"
   ]
  },
  {
   "cell_type": "code",
   "execution_count": 8,
   "metadata": {},
   "outputs": [],
   "source": [
    "#Loading file for face detection\n",
    "faceCascade = cv2.CascadeClassifier(cv2.data.haarcascades+\"haarcascade_frontalface_default.xml\")"
   ]
  },
  {
   "cell_type": "code",
   "execution_count": 13,
   "metadata": {},
   "outputs": [
    {
     "name": "stdout",
     "output_type": "stream",
     "text": [
      "Your dominant emotion is: neutral\n",
      "Enter the number of songs you want:\n",
      "10\n",
      "Your songs are as follows:\n",
      "\n",
      "[\"I Can't\", 'SPACE PUNKS', 'Planting The Roots Only To Fall Out The Tree', 'Represent', 'Killing Me Softly With His Song', 'LIGHTSKIN SH*T (feat. Future & jetsonmade)', 'Spotlight', 'I Really Like You', 'company']\n"
     ]
    }
   ],
   "source": [
    "#Performing real time emotion-detection and music recommendation\n",
    "#For music recommendation enter the key:q\n",
    "\n",
    "cap = cv2.VideoCapture(0)\n",
    "while True:\n",
    "    ret,img = cap.read();\n",
    "    gray = cv2.cvtColor(img,cv2.COLOR_BGR2GRAY)\n",
    "    faces = faceCascade.detectMultiScale(gray,1.1,4)\n",
    "    pre = DeepFace.analyze(img,actions=['emotion'])\n",
    "    for (x,y,w,h) in faces:\n",
    "        cv2.rectangle(img,(x,y),(x+w,y+h),(0,255,0),2)\n",
    "    cv2.putText(img,pre['dominant_emotion'],(50,50),cv2.FONT_HERSHEY_SIMPLEX,2,(0,255,0),2,cv2.LINE_AA)\n",
    "    cv2.imshow(\"Frame\",img)\n",
    "    if cv2.waitKey(25) & 0xFF==ord('q'):\n",
    "        cv2.imwrite(\"./faceEmoji/face-emotion.jpg\",img)\n",
    "        print(\"Your dominant emotion is:\",pre['dominant_emotion'])\n",
    "        predict_music(pre)\n",
    "        break\n",
    "cv2.destroyAllWindows()        "
   ]
  },
  {
   "cell_type": "code",
   "execution_count": null,
   "metadata": {},
   "outputs": [],
   "source": []
  }
 ],
 "metadata": {
  "kernelspec": {
   "display_name": "Python 3",
   "language": "python",
   "name": "python3"
  },
  "language_info": {
   "codemirror_mode": {
    "name": "ipython",
    "version": 3
   },
   "file_extension": ".py",
   "mimetype": "text/x-python",
   "name": "python",
   "nbconvert_exporter": "python",
   "pygments_lexer": "ipython3",
   "version": "3.7.3"
  }
 },
 "nbformat": 4,
 "nbformat_minor": 2
}
